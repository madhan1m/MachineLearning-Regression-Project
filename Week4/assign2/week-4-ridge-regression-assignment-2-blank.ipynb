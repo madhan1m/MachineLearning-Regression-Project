{
 "cells": [
  {
   "cell_type": "markdown",
   "metadata": {},
   "source": [
    "# Regression Week 4: Ridge Regression (gradient descent)"
   ]
  },
  {
   "cell_type": "markdown",
   "metadata": {},
   "source": [
    "In this notebook, you will implement ridge regression via gradient descent. You will:\n",
    "* Convert an SFrame into a Numpy array\n",
    "* Write a Numpy function to compute the derivative of the regression weights with respect to a single feature\n",
    "* Write gradient descent function to compute the regression weights given an initial weight vector, step size, tolerance, and L2 penalty"
   ]
  },
  {
   "cell_type": "markdown",
   "metadata": {},
   "source": [
    "# Fire up graphlab create"
   ]
  },
  {
   "cell_type": "markdown",
   "metadata": {},
   "source": [
    "Make sure you have the latest version of GraphLab Create (>= 1.7)"
   ]
  },
  {
   "cell_type": "code",
   "execution_count": 1,
   "metadata": {},
   "outputs": [],
   "source": [
    "import graphlab"
   ]
  },
  {
   "cell_type": "markdown",
   "metadata": {},
   "source": [
    "# Load in house sales data\n",
    "\n",
    "Dataset is from house sales in King County, the region where the city of Seattle, WA is located."
   ]
  },
  {
   "cell_type": "code",
   "execution_count": 2,
   "metadata": {},
   "outputs": [
    {
     "name": "stdout",
     "output_type": "stream",
     "text": [
      "This non-commercial license of GraphLab Create for academic use is assigned to madhan1m@gmail.com and will expire on September 19, 2018.\n"
     ]
    },
    {
     "name": "stderr",
     "output_type": "stream",
     "text": [
      "[INFO] graphlab.cython.cy_server: GraphLab Create v2.1 started. Logging: C:\\Users\\Madhan\\AppData\\Local\\Temp\\graphlab_server_1508356282.log.0\n"
     ]
    }
   ],
   "source": [
    "sales = graphlab.SFrame('kc_house_data.gl/')"
   ]
  },
  {
   "cell_type": "markdown",
   "metadata": {},
   "source": [
    "If we want to do any \"feature engineering\" like creating new features or adjusting existing ones we should do this directly using the SFrames as seen in the first notebook of Week 2. For this notebook, however, we will work with the existing features."
   ]
  },
  {
   "cell_type": "markdown",
   "metadata": {},
   "source": [
    "# Import useful functions from previous notebook"
   ]
  },
  {
   "cell_type": "markdown",
   "metadata": {},
   "source": [
    "As in Week 2, we convert the SFrame into a 2D Numpy array. Copy and paste `get_numpy_data()` from the second notebook of Week 2."
   ]
  },
  {
   "cell_type": "code",
   "execution_count": 3,
   "metadata": {
    "collapsed": true
   },
   "outputs": [],
   "source": [
    "import numpy as np # note this allows us to refer to numpy as np instead "
   ]
  },
  {
   "cell_type": "code",
   "execution_count": 4,
   "metadata": {
    "collapsed": true
   },
   "outputs": [],
   "source": [
    "def get_numpy_data(data_sframe, features, output):\n",
    "    data_sframe['constant'] = 1 # this is how you add a constant column to an SFrame\n",
    "    # add the column 'constant' to the front of the features list so that we can extract it along with the others:\n",
    "    features = ['constant'] + features # this is how you combine two lists\n",
    "    # select the columns of data_SFrame given by the features list into the SFrame features_sframe (now including constant):\n",
    "    features_sframe = data_sframe[features]\n",
    "    # the following line will convert the features_SFrame into a numpy matrix:\n",
    "    feature_matrix = features_sframe.to_numpy()\n",
    "    # assign the column of data_sframe associated with the output to the SArray output_sarray\n",
    "    output_sarray = data_sframe['price']\n",
    "    # the following will convert the SArray into a numpy array by first converting it to a list\n",
    "    output_array = output_sarray.to_numpy()\n",
    "    return(feature_matrix, output_array)"
   ]
  },
  {
   "cell_type": "markdown",
   "metadata": {},
   "source": [
    "Also, copy and paste the `predict_output()` function to compute the predictions for an entire matrix of features given the matrix and the weights:"
   ]
  },
  {
   "cell_type": "code",
   "execution_count": 5,
   "metadata": {
    "collapsed": true
   },
   "outputs": [],
   "source": [
    "def predict_output(feature_matrix, weights):\n",
    "    # assume feature_matrix is a numpy matrix containing the features as columns and weights is a corresponding numpy array\n",
    "    # create the predictions vector by using np.dot()\n",
    "    predictions = np.dot(feature_matrix, weights)\n",
    "    return(predictions)"
   ]
  },
  {
   "cell_type": "markdown",
   "metadata": {},
   "source": [
    "# Computing the Derivative"
   ]
  },
  {
   "cell_type": "markdown",
   "metadata": {},
   "source": [
    "We are now going to move to computing the derivative of the regression cost function. Recall that the cost function is the sum over the data points of the squared difference between an observed output and a predicted output, plus the L2 penalty term.\n",
    "```\n",
    "Cost(w)\n",
    "= SUM[ (prediction - output)^2 ]\n",
    "+ l2_penalty*(w[0]^2 + w[1]^2 + ... + w[k]^2).\n",
    "```\n",
    "\n",
    "Since the derivative of a sum is the sum of the derivatives, we can take the derivative of the first part (the RSS) as we did in the notebook for the unregularized case in Week 2 and add the derivative of the regularization part.  As we saw, the derivative of the RSS with respect to `w[i]` can be written as: \n",
    "```\n",
    "2*SUM[ error*[feature_i] ].\n",
    "```\n",
    "The derivative of the regularization term with respect to `w[i]` is:\n",
    "```\n",
    "2*l2_penalty*w[i].\n",
    "```\n",
    "Summing both, we get\n",
    "```\n",
    "2*SUM[ error*[feature_i] ] + 2*l2_penalty*w[i].\n",
    "```\n",
    "That is, the derivative for the weight for feature i is the sum (over data points) of 2 times the product of the error and the feature itself, plus `2*l2_penalty*w[i]`. \n",
    "\n",
    "**We will not regularize the constant.**  Thus, in the case of the constant, the derivative is just twice the sum of the errors (without the `2*l2_penalty*w[0]` term).\n",
    "\n",
    "Recall that twice the sum of the product of two vectors is just twice the dot product of the two vectors. Therefore the derivative for the weight for feature_i is just two times the dot product between the values of feature_i and the current errors, plus `2*l2_penalty*w[i]`.\n",
    "\n",
    "With this in mind complete the following derivative function which computes the derivative of the weight given the value of the feature (over all data points) and the errors (over all data points).  To decide when to we are dealing with the constant (so we don't regularize it) we added the extra parameter to the call `feature_is_constant` which you should set to `True` when computing the derivative of the constant and `False` otherwise."
   ]
  },
  {
   "cell_type": "code",
   "execution_count": 7,
   "metadata": {},
   "outputs": [],
   "source": [
    "def feature_derivative_ridge(errors, feature, weight, l2_penalty, feature_is_constant):\n",
    "    # If feature_is_constant is True, derivative is twice the dot product of errors and feature\n",
    "    if(feature_is_constant):\n",
    "        derivative = 2*np.dot(errors,feature)\n",
    "    # Otherwise, derivative is twice the dot product plus 2*l2_penalty*weight\n",
    "    else:\n",
    "        derivative = 2*np.dot(errors,feature) + 2*l2_penalty*weight\n",
    "    return derivative"
   ]
  },
  {
   "cell_type": "markdown",
   "metadata": {},
   "source": [
    "To test your feature derivartive run the following:"
   ]
  },
  {
   "cell_type": "code",
   "execution_count": 8,
   "metadata": {},
   "outputs": [
    {
     "name": "stdout",
     "output_type": "stream",
     "text": [
      "-5.65541667824e+13\n",
      "-5.65541667824e+13\n",
      "\n",
      "-22446749336.0\n",
      "-22446749336.0\n"
     ]
    }
   ],
   "source": [
    "import numpy as np\n",
    "(example_features, example_output) = get_numpy_data(sales, ['sqft_living'], 'price') \n",
    "my_weights = np.array([1., 10.])\n",
    "test_predictions = predict_output(example_features, my_weights) \n",
    "errors = test_predictions - example_output # prediction errors\n",
    "\n",
    "# next two lines should print the same values\n",
    "print feature_derivative_ridge(errors, example_features[:,1], my_weights[1], 1, False)\n",
    "print np.sum(errors*example_features[:,1])*2+20.\n",
    "print ''\n",
    "\n",
    "# next two lines should print the same values\n",
    "print feature_derivative_ridge(errors, example_features[:,0], my_weights[0], 1, True)\n",
    "print np.sum(errors)*2."
   ]
  },
  {
   "cell_type": "markdown",
   "metadata": {},
   "source": [
    "# Gradient Descent"
   ]
  },
  {
   "cell_type": "markdown",
   "metadata": {},
   "source": [
    "Now we will write a function that performs a gradient descent. The basic premise is simple. Given a starting point we update the current weights by moving in the negative gradient direction. Recall that the gradient is the direction of *increase* and therefore the negative gradient is the direction of *decrease* and we're trying to *minimize* a cost function. \n",
    "\n",
    "The amount by which we move in the negative gradient *direction*  is called the 'step size'. We stop when we are 'sufficiently close' to the optimum. Unlike in Week 2, this time we will set a **maximum number of iterations** and take gradient steps until we reach this maximum number. If no maximum number is supplied, the maximum should be set 100 by default. (Use default parameter values in Python.)\n",
    "\n",
    "With this in mind, complete the following gradient descent function below using your derivative function above. For each step in the gradient descent, we update the weight for each feature before computing our stopping criteria."
   ]
  },
  {
   "cell_type": "code",
   "execution_count": 16,
   "metadata": {},
   "outputs": [],
   "source": [
    "def ridge_regression_gradient_descent(feature_matrix, output, initial_weights, step_size, l2_penalty, max_iterations=100):\n",
    "    print 'Starting gradient descent with l2_penalty = ' + str(l2_penalty)\n",
    "    \n",
    "    weights = np.array(initial_weights) # make sure it's a numpy array\n",
    "    iteration = 0 # iteration counter\n",
    "    print_frequency = 1  # for adjusting frequency of debugging output\n",
    "    \n",
    "    #while not reached maximum number of iterations:\n",
    "    while iteration < max_iterations:\n",
    "        iteration += 1  # increment iteration counter\n",
    "        ### === code section for adjusting frequency of debugging output. ===\n",
    "        if iteration == 10:\n",
    "            print_frequency = 10\n",
    "        if iteration == 100:\n",
    "            print_frequency = 100\n",
    "        if iteration%print_frequency==0:\n",
    "            print('Iteration = ' + str(iteration))\n",
    "        ### === end code section ===\n",
    "        \n",
    "        # compute the predictions based on feature_matrix and weights using your predict_output() function\n",
    "        predictions = predict_output(feature_matrix, weights) \n",
    "        # compute the errors as predictions - output\n",
    "        errors = predictions - output\n",
    "        # from time to time, print the value of the cost function\n",
    "        if iteration%print_frequency==0:\n",
    "            print 'Cost function = ', str(np.dot(errors,errors) + l2_penalty*(np.dot(weights,weights) - weights[0]**2))\n",
    "        \n",
    "        for i in xrange(len(weights)): # loop over each weight\n",
    "            # Recall that feature_matrix[:,i] is the feature column associated with weights[i]\n",
    "            # compute the derivative for weight[i].\n",
    "            #(Remember: when i=0, you are computing the derivative of the constant!)\n",
    "\n",
    "            # subtract the step size times the derivative from the current weight\n",
    "            if i == 0:\n",
    "                derivative = feature_derivative_ridge(errors, feature_matrix[:,0], weights[0], l2_penalty, True)\n",
    "            else:\n",
    "                derivative = feature_derivative_ridge(errors, feature_matrix[:,i], weights[i], l2_penalty, False) \n",
    "                weights[i] = weights[i] - step_size*derivative\n",
    "            # subtract the step size times the derivative from the current weight\n",
    "            iteration = iteration + 1\n",
    "\n",
    "    print 'Done with gradient descent at iteration ', iteration\n",
    "    print 'Learned weights = ', str(weights)\n",
    "    return weights"
   ]
  },
  {
   "cell_type": "markdown",
   "metadata": {},
   "source": [
    "# Visualizing effect of L2 penalty"
   ]
  },
  {
   "cell_type": "markdown",
   "metadata": {},
   "source": [
    "The L2 penalty gets its name because it causes weights to have small L2 norms than otherwise. Let's see how large weights get penalized. Let us consider a simple model with 1 feature:"
   ]
  },
  {
   "cell_type": "code",
   "execution_count": 36,
   "metadata": {
    "collapsed": true
   },
   "outputs": [],
   "source": [
    "simple_features = ['sqft_living']\n",
    "my_output = 'price'"
   ]
  },
  {
   "cell_type": "markdown",
   "metadata": {},
   "source": [
    "Let us split the dataset into training set and test set. Make sure to use `seed=0`:"
   ]
  },
  {
   "cell_type": "code",
   "execution_count": 37,
   "metadata": {
    "collapsed": true
   },
   "outputs": [],
   "source": [
    "train_data,test_data = sales.random_split(.8,seed=0)"
   ]
  },
  {
   "cell_type": "markdown",
   "metadata": {},
   "source": [
    "In this part, we will only use `'sqft_living'` to predict `'price'`. Use the `get_numpy_data` function to get a Numpy versions of your data with only this feature, for both the `train_data` and the `test_data`. "
   ]
  },
  {
   "cell_type": "code",
   "execution_count": 38,
   "metadata": {
    "collapsed": true
   },
   "outputs": [],
   "source": [
    "(simple_feature_matrix, output) = get_numpy_data(train_data, simple_features, my_output)\n",
    "(simple_test_feature_matrix, test_output) = get_numpy_data(test_data, simple_features, my_output)"
   ]
  },
  {
   "cell_type": "markdown",
   "metadata": {},
   "source": [
    "Let's set the parameters for our optimization:"
   ]
  },
  {
   "cell_type": "code",
   "execution_count": 39,
   "metadata": {
    "collapsed": true
   },
   "outputs": [],
   "source": [
    "initial_weights = np.array([0., 0.])\n",
    "step_size = 1e-12\n",
    "max_iterations=1000"
   ]
  },
  {
   "cell_type": "markdown",
   "metadata": {},
   "source": [
    "First, let's consider no regularization.  Set the `l2_penalty` to `0.0` and run your ridge regression algorithm to learn the weights of your model.  Call your weights:\n",
    "\n",
    "`simple_weights_0_penalty`\n",
    "\n",
    "we'll use them later."
   ]
  },
  {
   "cell_type": "code",
   "execution_count": 40,
   "metadata": {},
   "outputs": [
    {
     "name": "stdout",
     "output_type": "stream",
     "text": [
      "Starting gradient descent with l2_penalty = 0.0\n",
      "Iteration = 1\n",
      "Cost function =  7.43305185103e+15\n",
      "Iteration = 4\n",
      "Cost function =  5.39426750061e+15\n",
      "Iteration = 7\n",
      "Cost function =  4.02323812014e+15\n",
      "Iteration = 10\n",
      "Cost function =  3.1012565669e+15\n",
      "Iteration = 40\n",
      "Cost function =  1.24405305691e+15\n",
      "Iteration = 70\n",
      "Cost function =  1.20892822953e+15\n",
      "Iteration = 100\n",
      "Cost function =  1.20826392241e+15\n",
      "Iteration = 400\n",
      "Cost function =  1.20825111634e+15\n",
      "Iteration = 700\n",
      "Cost function =  1.20825111634e+15\n",
      "Iteration = 1000\n",
      "Cost function =  1.20825111634e+15\n",
      "Done with gradient descent at iteration  1002\n",
      "Learned weights =  [   0.          263.02430396]\n",
      "[   0.          263.02430396]\n"
     ]
    }
   ],
   "source": [
    "l2_penalty = 0.0\n",
    "simple_weights_0_penalty = ridge_regression_gradient_descent(simple_feature_matrix, output, initial_weights, step_size, l2_penalty, max_iterations)\n",
    "print simple_weights_0_penalty"
   ]
  },
  {
   "cell_type": "markdown",
   "metadata": {},
   "source": [
    "Next, let's consider high regularization.  Set the `l2_penalty` to `1e11` and run your ridge regression algorithm to learn the weights of your model.  Call your weights:\n",
    "\n",
    "`simple_weights_high_penalty`\n",
    "\n",
    "we'll use them later."
   ]
  },
  {
   "cell_type": "code",
   "execution_count": 41,
   "metadata": {},
   "outputs": [
    {
     "name": "stdout",
     "output_type": "stream",
     "text": [
      "Starting gradient descent with l2_penalty = 1e+11\n",
      "Iteration = 1\n",
      "Cost function =  7.43305185103e+15\n",
      "Iteration = 4\n",
      "Cost function =  5.61830418589e+15\n",
      "Iteration = 7\n",
      "Cost function =  4.92061370357e+15\n",
      "Iteration = 10\n",
      "Cost function =  4.65238246765e+15\n",
      "Iteration = 40\n",
      "Cost function =  4.48486268325e+15\n",
      "Iteration = 70\n",
      "Cost function =  4.48485086559e+15\n",
      "Iteration = 100\n",
      "Cost function =  4.48485086475e+15\n",
      "Iteration = 400\n",
      "Cost function =  4.48485086475e+15\n",
      "Iteration = 700\n",
      "Cost function =  4.48485086475e+15\n",
      "Iteration = 1000\n",
      "Cost function =  4.48485086475e+15\n",
      "Done with gradient descent at iteration  1002\n",
      "Learned weights =  [   0.          124.57402982]\n",
      "[   0.          124.57402982]\n"
     ]
    }
   ],
   "source": [
    "l2_penalty = 1e11\n",
    "simple_weights_high_penalty = ridge_regression_gradient_descent(simple_feature_matrix, output, initial_weights, step_size, l2_penalty, max_iterations)\n",
    "print simple_weights_high_penalty"
   ]
  },
  {
   "cell_type": "markdown",
   "metadata": {},
   "source": [
    "This code will plot the two learned models.  (The blue line is for the model with no regularization and the red line is for the one with high regularization.)"
   ]
  },
  {
   "cell_type": "code",
   "execution_count": 42,
   "metadata": {},
   "outputs": [
    {
     "data": {
      "text/plain": [
       "[<matplotlib.lines.Line2D at 0x1b6222b0>,\n",
       " <matplotlib.lines.Line2D at 0x1b622320>,\n",
       " <matplotlib.lines.Line2D at 0x1b622a58>,\n",
       " <matplotlib.lines.Line2D at 0x1b622ac8>,\n",
       " <matplotlib.lines.Line2D at 0x1b63f198>,\n",
       " <matplotlib.lines.Line2D at 0x1b63f208>]"
      ]
     },
     "execution_count": 42,
     "metadata": {},
     "output_type": "execute_result"
    },
    {
     "data": {
      "image/png": "[encoded data removed]",
      "text/plain": [
       "<matplotlib.figure.Figure at 0x38676f28>"
      ]
     },
     "metadata": {},
     "output_type": "display_data"
    }
   ],
   "source": [
    "import matplotlib.pyplot as plt\n",
    "%matplotlib inline\n",
    "plt.plot(simple_feature_matrix,output,'k.',\n",
    "         simple_feature_matrix,predict_output(simple_feature_matrix, simple_weights_0_penalty),'b-',\n",
    "        simple_feature_matrix,predict_output(simple_feature_matrix, simple_weights_high_penalty),'r-')"
   ]
  },
  {
   "cell_type": "markdown",
   "metadata": {},
   "source": [
    "Compute the RSS on the TEST data for the following three sets of weights:\n",
    "1. The initial weights (all zeros)\n",
    "2. The weights learned with no regularization\n",
    "3. The weights learned with high regularization\n",
    "\n",
    "Which weights perform best?"
   ]
  },
  {
   "cell_type": "code",
   "execution_count": 43,
   "metadata": {},
   "outputs": [
    {
     "name": "stdout",
     "output_type": "stream",
     "text": [
      "1.78427328252e+15\n"
     ]
    }
   ],
   "source": [
    "residual_ZeroWts = predict_output(simple_test_feature_matrix, initial_weights) - test_output\n",
    "sq_residual_ZeroWts = residual_ZeroWts*residual_ZeroWts\n",
    "RSS_ZeroWts = sq_residual_ZeroWts.sum()\n",
    "print RSS_ZeroWts"
   ]
  },
  {
   "cell_type": "code",
   "execution_count": 44,
   "metadata": {},
   "outputs": [
    {
     "name": "stdout",
     "output_type": "stream",
     "text": [
      "2.75723640878e+14\n"
     ]
    }
   ],
   "source": [
    "residual_ZeroPen = predict_output(simple_test_feature_matrix, simple_weights_0_penalty) - test_output\n",
    "sq_residual_ZeroPen = residual_ZeroPen*residual_ZeroPen\n",
    "RSS_ZeroPen = sq_residual_ZeroPen.sum()\n",
    "print RSS_ZeroPen"
   ]
  },
  {
   "cell_type": "code",
   "execution_count": 45,
   "metadata": {},
   "outputs": [
    {
     "name": "stdout",
     "output_type": "stream",
     "text": [
      "6.94654370054e+14\n"
     ]
    }
   ],
   "source": [
    "residual_HighPen = predict_output(simple_test_feature_matrix, simple_weights_high_penalty) - test_output\n",
    "sq_residual_HighPen = residual_HighPen*residual_HighPen\n",
    "RSS_HighPen = sq_residual_HighPen.sum()\n",
    "print RSS_HighPen"
   ]
  },
  {
   "cell_type": "markdown",
   "metadata": {},
   "source": [
    "***QUIZ QUESTIONS***\n",
    "1. What is the value of the coefficient for `sqft_living` that you learned with no regularization, rounded to 1 decimal place?  What about the one with high regularization?\n",
    "2. Comparing the lines you fit with the with no regularization versus high regularization, which one is steeper?\n",
    "3. What are the RSS on the test data for each of the set of weights above (initial, no regularization, high regularization)? \n"
   ]
  },
  {
   "cell_type": "markdown",
   "metadata": {},
   "source": [
    "# Running a multiple regression with L2 penalty"
   ]
  },
  {
   "cell_type": "markdown",
   "metadata": {},
   "source": [
    "Let us now consider a model with 2 features: `['sqft_living', 'sqft_living15']`."
   ]
  },
  {
   "cell_type": "markdown",
   "metadata": {},
   "source": [
    "First, create Numpy versions of your training and test data with these two features. "
   ]
  },
  {
   "cell_type": "code",
   "execution_count": 46,
   "metadata": {
    "collapsed": true
   },
   "outputs": [],
   "source": [
    "model_features = ['sqft_living', 'sqft_living15'] # sqft_living15 is the average squarefeet for the nearest 15 neighbors. \n",
    "my_output = 'price'\n",
    "(feature_matrix, output) = get_numpy_data(train_data, model_features, my_output)\n",
    "(test_feature_matrix, test_output) = get_numpy_data(test_data, model_features, my_output)"
   ]
  },
  {
   "cell_type": "markdown",
   "metadata": {},
   "source": [
    "We need to re-inialize the weights, since we have one extra parameter. Let us also set the step size and maximum number of iterations."
   ]
  },
  {
   "cell_type": "code",
   "execution_count": 47,
   "metadata": {
    "collapsed": true
   },
   "outputs": [],
   "source": [
    "initial_weights = np.array([0.0,0.0,0.0])\n",
    "step_size = 1e-12\n",
    "max_iterations = 1000"
   ]
  },
  {
   "cell_type": "markdown",
   "metadata": {},
   "source": [
    "First, let's consider no regularization.  Set the `l2_penalty` to `0.0` and run your ridge regression algorithm to learn the weights of your model.  Call your weights:\n",
    "\n",
    "`multiple_weights_0_penalty`"
   ]
  },
  {
   "cell_type": "code",
   "execution_count": 48,
   "metadata": {},
   "outputs": [
    {
     "name": "stdout",
     "output_type": "stream",
     "text": [
      "Starting gradient descent with l2_penalty = 0.0\n",
      "Iteration = 1\n",
      "Cost function =  7.43305185103e+15\n",
      "Iteration = 5\n",
      "Cost function =  4.05675256408e+15\n",
      "Iteration = 9\n",
      "Cost function =  2.52956531389e+15\n",
      "Iteration = 13\n",
      "Cost function =  1.83855681657e+15\n",
      "Iteration = 17\n",
      "Cost function =  1.52567563455e+15\n",
      "Iteration = 21\n",
      "Cost function =  1.38378951705e+15\n",
      "Iteration = 25\n",
      "Cost function =  1.31923260065e+15\n",
      "Iteration = 29\n",
      "Cost function =  1.28964885323e+15\n",
      "Iteration = 33\n",
      "Cost function =  1.27588469844e+15\n",
      "Iteration = 37\n",
      "Cost function =  1.26927877861e+15\n",
      "Iteration = 41\n",
      "Cost function =  1.26591434854e+15\n",
      "Iteration = 45\n",
      "Cost function =  1.26402019125e+15\n",
      "Iteration = 49\n",
      "Cost function =  1.26279530448e+15\n",
      "Iteration = 53\n",
      "Cost function =  1.26187742056e+15\n",
      "Iteration = 57\n",
      "Cost function =  1.26110266942e+15\n",
      "Iteration = 61\n",
      "Cost function =  1.26039689765e+15\n",
      "Iteration = 65\n",
      "Cost function =  1.25972652253e+15\n",
      "Iteration = 69\n",
      "Cost function =  1.25907630812e+15\n",
      "Iteration = 73\n",
      "Cost function =  1.25843931558e+15\n",
      "Iteration = 77\n",
      "Cost function =  1.25781235855e+15\n",
      "Iteration = 81\n",
      "Cost function =  1.2571939482e+15\n",
      "Iteration = 85\n",
      "Cost function =  1.25658336385e+15\n",
      "Iteration = 89\n",
      "Cost function =  1.25598023275e+15\n",
      "Iteration = 93\n",
      "Cost function =  1.25538434005e+15\n",
      "Iteration = 97\n",
      "Cost function =  1.25479554285e+15\n",
      "Iteration = 101\n",
      "Cost function =  1.2542137313e+15\n",
      "Iteration = 105\n",
      "Cost function =  1.25363881107e+15\n",
      "Iteration = 109\n",
      "Cost function =  1.25307069535e+15\n",
      "Iteration = 113\n",
      "Cost function =  1.25250930126e+15\n",
      "Iteration = 117\n",
      "Cost function =  1.25195454821e+15\n",
      "Iteration = 121\n",
      "Cost function =  1.25140635717e+15\n",
      "Iteration = 125\n",
      "Cost function =  1.25086465029e+15\n",
      "Iteration = 129\n",
      "Cost function =  1.25032935078e+15\n",
      "Iteration = 133\n",
      "Cost function =  1.24980038282e+15\n",
      "Iteration = 137\n",
      "Cost function =  1.24927767148e+15\n",
      "Iteration = 141\n",
      "Cost function =  1.24876114277e+15\n",
      "Iteration = 145\n",
      "Cost function =  1.24825072354e+15\n",
      "Iteration = 149\n",
      "Cost function =  1.24774634153e+15\n",
      "Iteration = 153\n",
      "Cost function =  1.24724792533e+15\n",
      "Iteration = 157\n",
      "Cost function =  1.24675540439e+15\n",
      "Iteration = 161\n",
      "Cost function =  1.24626870896e+15\n",
      "Iteration = 165\n",
      "Cost function =  1.24578777015e+15\n",
      "Iteration = 169\n",
      "Cost function =  1.24531251986e+15\n",
      "Iteration = 173\n",
      "Cost function =  1.24484289082e+15\n",
      "Iteration = 177\n",
      "Cost function =  1.24437881653e+15\n",
      "Iteration = 181\n",
      "Cost function =  1.2439202313e+15\n",
      "Iteration = 185\n",
      "Cost function =  1.2434670702e+15\n",
      "Iteration = 189\n",
      "Cost function =  1.24301926907e+15\n",
      "Iteration = 193\n",
      "Cost function =  1.24257676451e+15\n",
      "Iteration = 197\n",
      "Cost function =  1.24213949389e+15\n",
      "Iteration = 201\n",
      "Cost function =  1.24170739528e+15\n",
      "Iteration = 205\n",
      "Cost function =  1.24128040752e+15\n",
      "Iteration = 209\n",
      "Cost function =  1.24085847016e+15\n",
      "Iteration = 213\n",
      "Cost function =  1.24044152345e+15\n",
      "Iteration = 217\n",
      "Cost function =  1.24002950838e+15\n",
      "Iteration = 221\n",
      "Cost function =  1.2396223666e+15\n",
      "Iteration = 225\n",
      "Cost function =  1.23922004049e+15\n",
      "Iteration = 229\n",
      "Cost function =  1.23882247307e+15\n",
      "Iteration = 233\n",
      "Cost function =  1.23842960806e+15\n",
      "Iteration = 237\n",
      "Cost function =  1.23804138985e+15\n",
      "Iteration = 241\n",
      "Cost function =  1.23765776347e+15\n",
      "Iteration = 245\n",
      "Cost function =  1.23727867461e+15\n",
      "Iteration = 249\n",
      "Cost function =  1.2369040696e+15\n",
      "Iteration = 253\n",
      "Cost function =  1.2365338954e+15\n",
      "Iteration = 257\n",
      "Cost function =  1.23616809961e+15\n",
      "Iteration = 261\n",
      "Cost function =  1.23580663043e+15\n",
      "Iteration = 265\n",
      "Cost function =  1.23544943671e+15\n",
      "Iteration = 269\n",
      "Cost function =  1.23509646785e+15\n",
      "Iteration = 273\n",
      "Cost function =  1.2347476739e+15\n",
      "Iteration = 277\n",
      "Cost function =  1.23440300547e+15\n",
      "Iteration = 281\n",
      "Cost function =  1.23406241377e+15\n",
      "Iteration = 285\n",
      "Cost function =  1.23372585057e+15\n",
      "Iteration = 289\n",
      "Cost function =  1.23339326823e+15\n",
      "Iteration = 293\n",
      "Cost function =  1.23306461966e+15\n",
      "Iteration = 297\n",
      "Cost function =  1.23273985834e+15\n",
      "Iteration = 301\n",
      "Cost function =  1.23241893828e+15\n",
      "Iteration = 305\n",
      "Cost function =  1.23210181405e+15\n",
      "Iteration = 309\n",
      "Cost function =  1.23178844075e+15\n",
      "Iteration = 313\n",
      "Cost function =  1.23147877403e+15\n",
      "Iteration = 317\n",
      "Cost function =  1.23117277003e+15\n",
      "Iteration = 321\n",
      "Cost function =  1.23087038543e+15\n",
      "Iteration = 325\n",
      "Cost function =  1.23057157743e+15\n",
      "Iteration = 329\n",
      "Cost function =  1.23027630371e+15\n",
      "Iteration = 333\n",
      "Cost function =  1.22998452249e+15\n",
      "Iteration = 337\n",
      "Cost function =  1.22969619244e+15\n",
      "Iteration = 341\n",
      "Cost function =  1.22941127275e+15\n",
      "Iteration = 345\n",
      "Cost function =  1.22912972308e+15\n",
      "Iteration = 349\n",
      "Cost function =  1.22885150357e+15\n",
      "Iteration = 353\n",
      "Cost function =  1.22857657483e+15\n",
      "Iteration = 357\n",
      "Cost function =  1.22830489793e+15\n",
      "Iteration = 361\n",
      "Cost function =  1.22803643442e+15\n",
      "Iteration = 365\n",
      "Cost function =  1.22777114629e+15\n",
      "Iteration = 369\n",
      "Cost function =  1.22750899597e+15\n",
      "Iteration = 373\n",
      "Cost function =  1.22724994636e+15\n",
      "Iteration = 377\n",
      "Cost function =  1.22699396078e+15\n",
      "Iteration = 381\n",
      "Cost function =  1.22674100299e+15\n",
      "Iteration = 385\n",
      "Cost function =  1.22649103717e+15\n",
      "Iteration = 389\n",
      "Cost function =  1.22624402794e+15\n",
      "Iteration = 393\n",
      "Cost function =  1.22599994033e+15\n",
      "Iteration = 397\n",
      "Cost function =  1.22575873977e+15\n",
      "Iteration = 401\n",
      "Cost function =  1.22552039213e+15\n",
      "Iteration = 405\n",
      "Cost function =  1.22528486365e+15\n",
      "Iteration = 409\n",
      "Cost function =  1.225052121e+15\n",
      "Iteration = 413\n",
      "Cost function =  1.22482213121e+15\n",
      "Iteration = 417\n",
      "Cost function =  1.22459486174e+15\n",
      "Iteration = 421\n",
      "Cost function =  1.2243702804e+15\n",
      "Iteration = 425\n",
      "Cost function =  1.22414835541e+15\n",
      "Iteration = 429\n",
      "Cost function =  1.22392905533e+15\n",
      "Iteration = 433\n",
      "Cost function =  1.22371234913e+15\n",
      "Iteration = 437\n",
      "Cost function =  1.22349820612e+15\n",
      "Iteration = 441\n",
      "Cost function =  1.22328659598e+15\n",
      "Iteration = 445\n",
      "Cost function =  1.22307748876e+15\n",
      "Iteration = 449\n",
      "Cost function =  1.22287085486e+15\n",
      "Iteration = 453\n",
      "Cost function =  1.22266666501e+15\n",
      "Iteration = 457\n",
      "Cost function =  1.22246489032e+15\n",
      "Iteration = 461\n",
      "Cost function =  1.2222655022e+15\n",
      "Iteration = 465\n",
      "Cost function =  1.22206847245e+15\n",
      "Iteration = 469\n",
      "Cost function =  1.22187377315e+15\n",
      "Iteration = 473\n",
      "Cost function =  1.22168137675e+15\n",
      "Iteration = 477\n",
      "Cost function =  1.22149125601e+15\n",
      "Iteration = 481\n",
      "Cost function =  1.221303384e+15\n",
      "Iteration = 485\n",
      "Cost function =  1.22111773414e+15\n",
      "Iteration = 489\n",
      "Cost function =  1.22093428015e+15\n",
      "Iteration = 493\n",
      "Cost function =  1.22075299603e+15\n",
      "Iteration = 497\n",
      "Cost function =  1.22057385614e+15\n",
      "Iteration = 501\n",
      "Cost function =  1.22039683512e+15\n",
      "Iteration = 505\n",
      "Cost function =  1.22022190788e+15\n",
      "Iteration = 509\n",
      "Cost function =  1.22004904969e+15\n",
      "Iteration = 513\n",
      "Cost function =  1.21987823605e+15\n",
      "Iteration = 517\n",
      "Cost function =  1.21970944279e+15\n",
      "Iteration = 521\n",
      "Cost function =  1.21954264601e+15\n",
      "Iteration = 525\n",
      "Cost function =  1.21937782209e+15\n",
      "Iteration = 529\n",
      "Cost function =  1.21921494771e+15\n",
      "Iteration = 533\n",
      "Cost function =  1.2190539998e+15\n",
      "Iteration = 537\n",
      "Cost function =  1.21889495558e+15\n",
      "Iteration = 541\n",
      "Cost function =  1.21873779252e+15\n",
      "Iteration = 545\n",
      "Cost function =  1.21858248838e+15\n",
      "Iteration = 549\n",
      "Cost function =  1.21842902118e+15\n",
      "Iteration = 553\n",
      "Cost function =  1.21827736918e+15\n",
      "Iteration = 557\n",
      "Cost function =  1.21812751091e+15\n",
      "Iteration = 561\n",
      "Cost function =  1.21797942517e+15\n",
      "Iteration = 565\n",
      "Cost function =  1.21783309097e+15\n",
      "Iteration = 569\n",
      "Cost function =  1.21768848761e+15\n",
      "Iteration = 573\n",
      "Cost function =  1.21754559462e+15\n",
      "Iteration = 577\n",
      "Cost function =  1.21740439175e+15\n",
      "Iteration = 581\n",
      "Cost function =  1.21726485903e+15\n",
      "Iteration = 585\n",
      "Cost function =  1.2171269767e+15\n",
      "Iteration = 589\n",
      "Cost function =  1.21699072524e+15\n",
      "Iteration = 593\n",
      "Cost function =  1.21685608535e+15\n",
      "Iteration = 597\n",
      "Cost function =  1.21672303798e+15\n",
      "Iteration = 601\n",
      "Cost function =  1.21659156428e+15\n",
      "Iteration = 605\n",
      "Cost function =  1.21646164566e+15\n",
      "Iteration = 609\n",
      "Cost function =  1.2163332637e+15\n",
      "Iteration = 613\n",
      "Cost function =  1.21620640025e+15\n",
      "Iteration = 617\n",
      "Cost function =  1.21608103732e+15\n",
      "Iteration = 621\n",
      "Cost function =  1.21595715719e+15\n",
      "Iteration = 625\n",
      "Cost function =  1.21583474231e+15\n",
      "Iteration = 629\n",
      "Cost function =  1.21571377535e+15\n",
      "Iteration = 633\n",
      "Cost function =  1.21559423917e+15\n",
      "Iteration = 637\n",
      "Cost function =  1.21547611687e+15\n",
      "Iteration = 641\n",
      "Cost function =  1.21535939172e+15\n",
      "Iteration = 645\n",
      "Cost function =  1.21524404718e+15\n",
      "Iteration = 649\n",
      "Cost function =  1.21513006694e+15\n",
      "Iteration = 653\n",
      "Cost function =  1.21501743485e+15\n",
      "Iteration = 657\n",
      "Cost function =  1.21490613497e+15\n",
      "Iteration = 661\n",
      "Cost function =  1.21479615154e+15\n",
      "Iteration = 665\n",
      "Cost function =  1.21468746899e+15\n",
      "Iteration = 669\n",
      "Cost function =  1.21458007193e+15\n",
      "Iteration = 673\n",
      "Cost function =  1.21447394516e+15\n",
      "Iteration = 677\n",
      "Cost function =  1.21436907366e+15\n",
      "Iteration = 681\n",
      "Cost function =  1.21426544257e+15\n",
      "Iteration = 685\n",
      "Cost function =  1.21416303722e+15\n",
      "Iteration = 689\n",
      "Cost function =  1.21406184313e+15\n",
      "Iteration = 693\n",
      "Cost function =  1.21396184595e+15\n",
      "Iteration = 697\n",
      "Cost function =  1.21386303153e+15\n",
      "Iteration = 701\n",
      "Cost function =  1.21376538589e+15\n",
      "Iteration = 705\n",
      "Cost function =  1.2136688952e+15\n",
      "Iteration = 709\n",
      "Cost function =  1.2135735458e+15\n",
      "Iteration = 713\n",
      "Cost function =  1.21347932418e+15\n",
      "Iteration = 717\n",
      "Cost function =  1.21338621702e+15\n",
      "Iteration = 721\n",
      "Cost function =  1.21329421112e+15\n",
      "Iteration = 725\n",
      "Cost function =  1.21320329347e+15\n",
      "Iteration = 729\n",
      "Cost function =  1.21311345119e+15\n",
      "Iteration = 733\n",
      "Cost function =  1.21302467155e+15\n",
      "Iteration = 737\n",
      "Cost function =  1.212936942e+15\n",
      "Iteration = 741\n",
      "Cost function =  1.21285025012e+15\n",
      "Iteration = 745\n",
      "Cost function =  1.21276458362e+15\n",
      "Iteration = 749\n",
      "Cost function =  1.21267993038e+15\n",
      "Iteration = 753\n",
      "Cost function =  1.21259627841e+15\n",
      "Iteration = 757\n",
      "Cost function =  1.21251361588e+15\n",
      "Iteration = 761\n",
      "Cost function =  1.21243193108e+15\n",
      "Iteration = 765\n",
      "Cost function =  1.21235121244e+15\n",
      "Iteration = 769\n",
      "Cost function =  1.21227144854e+15\n",
      "Iteration = 773\n",
      "Cost function =  1.21219262809e+15\n",
      "Iteration = 777\n",
      "Cost function =  1.21211473992e+15\n",
      "Iteration = 781\n",
      "Cost function =  1.21203777301e+15\n",
      "Iteration = 785\n",
      "Cost function =  1.21196171646e+15\n",
      "Iteration = 789\n",
      "Cost function =  1.2118865595e+15\n",
      "Iteration = 793\n",
      "Cost function =  1.2118122915e+15\n",
      "Iteration = 797\n",
      "Cost function =  1.21173890194e+15\n",
      "Iteration = 801\n",
      "Cost function =  1.21166638042e+15\n",
      "Iteration = 805\n",
      "Cost function =  1.21159471669e+15\n",
      "Iteration = 809\n",
      "Cost function =  1.2115239006e+15\n",
      "Iteration = 813\n",
      "Cost function =  1.21145392211e+15\n",
      "Iteration = 817\n",
      "Cost function =  1.21138477133e+15\n",
      "Iteration = 821\n",
      "Cost function =  1.21131643846e+15\n",
      "Iteration = 825\n",
      "Cost function =  1.21124891383e+15\n",
      "Iteration = 829\n",
      "Cost function =  1.21118218787e+15\n",
      "Iteration = 833\n",
      "Cost function =  1.21111625115e+15\n",
      "Iteration = 837\n",
      "Cost function =  1.21105109433e+15\n",
      "Iteration = 841\n",
      "Cost function =  1.21098670818e+15\n",
      "Iteration = 845\n",
      "Cost function =  1.21092308359e+15\n",
      "Iteration = 849\n",
      "Cost function =  1.21086021154e+15\n",
      "Iteration = 853\n",
      "Cost function =  1.21079808315e+15\n",
      "Iteration = 857\n",
      "Cost function =  1.21073668961e+15\n",
      "Iteration = 861\n",
      "Cost function =  1.21067602222e+15\n",
      "Iteration = 865\n",
      "Cost function =  1.21061607241e+15\n",
      "Iteration = 869\n",
      "Cost function =  1.21055683168e+15\n",
      "Iteration = 873\n",
      "Cost function =  1.21049829165e+15\n",
      "Iteration = 877\n",
      "Cost function =  1.21044044403e+15\n",
      "Iteration = 881\n",
      "Cost function =  1.21038328063e+15\n",
      "Iteration = 885\n",
      "Cost function =  1.21032679336e+15\n",
      "Iteration = 889\n",
      "Cost function =  1.21027097421e+15\n",
      "Iteration = 893\n",
      "Cost function =  1.2102158153e+15\n",
      "Iteration = 897\n",
      "Cost function =  1.2101613088e+15\n",
      "Iteration = 901\n",
      "Cost function =  1.210107447e+15\n",
      "Iteration = 905\n",
      "Cost function =  1.21005422227e+15\n",
      "Iteration = 909\n",
      "Cost function =  1.21000162709e+15\n",
      "Iteration = 913\n",
      "Cost function =  1.209949654e+15\n",
      "Iteration = 917\n",
      "Cost function =  1.20989829564e+15\n",
      "Iteration = 921\n",
      "Cost function =  1.20984754475e+15\n",
      "Iteration = 925\n",
      "Cost function =  1.20979739414e+15\n",
      "Iteration = 929\n",
      "Cost function =  1.20974783671e+15\n",
      "Iteration = 933\n",
      "Cost function =  1.20969886545e+15\n",
      "Iteration = 937\n",
      "Cost function =  1.20965047341e+15\n",
      "Iteration = 941\n",
      "Cost function =  1.20960265375e+15\n",
      "Iteration = 945\n",
      "Cost function =  1.20955539971e+15\n",
      "Iteration = 949\n",
      "Cost function =  1.20950870458e+15\n",
      "Iteration = 953\n",
      "Cost function =  1.20946256176e+15\n",
      "Iteration = 957\n",
      "Cost function =  1.20941696471e+15\n",
      "Iteration = 961\n"
     ]
    },
    {
     "name": "stdout",
     "output_type": "stream",
     "text": [
      "Cost function =  1.20937190699e+15\n",
      "Iteration = 965\n",
      "Cost function =  1.2093273822e+15\n",
      "Iteration = 969\n",
      "Cost function =  1.20928338406e+15\n",
      "Iteration = 973\n",
      "Cost function =  1.20923990632e+15\n",
      "Iteration = 977\n",
      "Cost function =  1.20919694283e+15\n",
      "Iteration = 981\n",
      "Cost function =  1.20915448752e+15\n",
      "Iteration = 985\n",
      "Cost function =  1.20911253437e+15\n",
      "Iteration = 989\n",
      "Cost function =  1.20907107743e+15\n",
      "Iteration = 993\n",
      "Cost function =  1.20903011085e+15\n",
      "Iteration = 997\n",
      "Cost function =  1.20898962882e+15\n",
      "Done with gradient descent at iteration  1000\n",
      "Learned weights =  [   0.          220.57628353   46.82300668]\n",
      "[   0.          220.57628353   46.82300668]\n"
     ]
    }
   ],
   "source": [
    "l2_penalty = 0.0\n",
    "multiple_weights_0_penalty = ridge_regression_gradient_descent(feature_matrix, output, initial_weights, step_size, l2_penalty, max_iterations)\n",
    "print multiple_weights_0_penalty"
   ]
  },
  {
   "cell_type": "markdown",
   "metadata": {},
   "source": [
    "Next, let's consider high regularization.  Set the `l2_penalty` to `1e11` and run your ridge regression algorithm to learn the weights of your model.  Call your weights:\n",
    "\n",
    "`multiple_weights_high_penalty`"
   ]
  },
  {
   "cell_type": "code",
   "execution_count": 49,
   "metadata": {},
   "outputs": [
    {
     "name": "stdout",
     "output_type": "stream",
     "text": [
      "Starting gradient descent with l2_penalty = 1e+11\n",
      "Iteration = 1\n",
      "Cost function =  7.43305185103e+15\n",
      "Iteration = 5\n",
      "Cost function =  4.46049002287e+15\n",
      "Iteration = 9\n",
      "Cost function =  3.79667473523e+15\n",
      "Iteration = 13\n",
      "Cost function =  3.64831982757e+15\n",
      "Iteration = 17\n",
      "Cost function =  3.61509143965e+15\n",
      "Iteration = 21\n",
      "Cost function =  3.60760312221e+15\n",
      "Iteration = 25\n",
      "Cost function =  3.60588674646e+15\n",
      "Iteration = 29\n",
      "Cost function =  3.60547534384e+15\n",
      "Iteration = 33\n",
      "Cost function =  3.6053656822e+15\n",
      "Iteration = 37\n",
      "Cost function =  3.60532996177e+15\n",
      "Iteration = 41\n",
      "Cost function =  3.60531489978e+15\n",
      "Iteration = 45\n",
      "Cost function =  3.60530706804e+15\n",
      "Iteration = 49\n",
      "Cost function =  3.60530250155e+15\n",
      "Iteration = 53\n",
      "Cost function =  3.60529970516e+15\n",
      "Iteration = 57\n",
      "Cost function =  3.60529796044e+15\n",
      "Iteration = 61\n",
      "Cost function =  3.60529686444e+15\n",
      "Iteration = 65\n",
      "Cost function =  3.6052961743e+15\n",
      "Iteration = 69\n",
      "Cost function =  3.60529573933e+15\n",
      "Iteration = 73\n",
      "Cost function =  3.60529546511e+15\n",
      "Iteration = 77\n",
      "Cost function =  3.60529529222e+15\n",
      "Iteration = 81\n",
      "Cost function =  3.6052951832e+15\n",
      "Iteration = 85\n",
      "Cost function =  3.60529511446e+15\n",
      "Iteration = 89\n",
      "Cost function =  3.60529507112e+15\n",
      "Iteration = 93\n",
      "Cost function =  3.60529504379e+15\n",
      "Iteration = 97\n",
      "Cost function =  3.60529502656e+15\n",
      "Iteration = 101\n",
      "Cost function =  3.60529501569e+15\n",
      "Iteration = 105\n",
      "Cost function =  3.60529500884e+15\n",
      "Iteration = 109\n",
      "Cost function =  3.60529500452e+15\n",
      "Iteration = 113\n",
      "Cost function =  3.60529500179e+15\n",
      "Iteration = 117\n",
      "Cost function =  3.60529500008e+15\n",
      "Iteration = 121\n",
      "Cost function =  3.60529499899e+15\n",
      "Iteration = 125\n",
      "Cost function =  3.60529499831e+15\n",
      "Iteration = 129\n",
      "Cost function =  3.60529499788e+15\n",
      "Iteration = 133\n",
      "Cost function =  3.60529499761e+15\n",
      "Iteration = 137\n",
      "Cost function =  3.60529499744e+15\n",
      "Iteration = 141\n",
      "Cost function =  3.60529499733e+15\n",
      "Iteration = 145\n",
      "Cost function =  3.60529499726e+15\n",
      "Iteration = 149\n",
      "Cost function =  3.60529499722e+15\n",
      "Iteration = 153\n",
      "Cost function =  3.60529499719e+15\n",
      "Iteration = 157\n",
      "Cost function =  3.60529499717e+15\n",
      "Iteration = 161\n",
      "Cost function =  3.60529499716e+15\n",
      "Iteration = 165\n",
      "Cost function =  3.60529499716e+15\n",
      "Iteration = 169\n",
      "Cost function =  3.60529499715e+15\n",
      "Iteration = 173\n",
      "Cost function =  3.60529499715e+15\n",
      "Iteration = 177\n",
      "Cost function =  3.60529499715e+15\n",
      "Iteration = 181\n",
      "Cost function =  3.60529499715e+15\n",
      "Iteration = 185\n",
      "Cost function =  3.60529499715e+15\n",
      "Iteration = 189\n",
      "Cost function =  3.60529499715e+15\n",
      "Iteration = 193\n",
      "Cost function =  3.60529499715e+15\n",
      "Iteration = 197\n",
      "Cost function =  3.60529499715e+15\n",
      "Iteration = 201\n",
      "Cost function =  3.60529499715e+15\n",
      "Iteration = 205\n",
      "Cost function =  3.60529499715e+15\n",
      "Iteration = 209\n",
      "Cost function =  3.60529499715e+15\n",
      "Iteration = 213\n",
      "Cost function =  3.60529499715e+15\n",
      "Iteration = 217\n",
      "Cost function =  3.60529499715e+15\n",
      "Iteration = 221\n",
      "Cost function =  3.60529499715e+15\n",
      "Iteration = 225\n",
      "Cost function =  3.60529499715e+15\n",
      "Iteration = 229\n",
      "Cost function =  3.60529499715e+15\n",
      "Iteration = 233\n",
      "Cost function =  3.60529499715e+15\n",
      "Iteration = 237\n",
      "Cost function =  3.60529499715e+15\n",
      "Iteration = 241\n",
      "Cost function =  3.60529499715e+15\n",
      "Iteration = 245\n",
      "Cost function =  3.60529499715e+15\n",
      "Iteration = 249\n",
      "Cost function =  3.60529499715e+15\n",
      "Iteration = 253\n",
      "Cost function =  3.60529499715e+15\n",
      "Iteration = 257\n",
      "Cost function =  3.60529499715e+15\n",
      "Iteration = 261\n",
      "Cost function =  3.60529499715e+15\n",
      "Iteration = 265\n",
      "Cost function =  3.60529499715e+15\n",
      "Iteration = 269\n",
      "Cost function =  3.60529499715e+15\n",
      "Iteration = 273\n",
      "Cost function =  3.60529499715e+15\n",
      "Iteration = 277\n",
      "Cost function =  3.60529499715e+15\n",
      "Iteration = 281\n",
      "Cost function =  3.60529499715e+15\n",
      "Iteration = 285\n",
      "Cost function =  3.60529499715e+15\n",
      "Iteration = 289\n",
      "Cost function =  3.60529499715e+15\n",
      "Iteration = 293\n",
      "Cost function =  3.60529499715e+15\n",
      "Iteration = 297\n",
      "Cost function =  3.60529499715e+15\n",
      "Iteration = 301\n",
      "Cost function =  3.60529499715e+15\n",
      "Iteration = 305\n",
      "Cost function =  3.60529499715e+15\n",
      "Iteration = 309\n",
      "Cost function =  3.60529499715e+15\n",
      "Iteration = 313\n",
      "Cost function =  3.60529499715e+15\n",
      "Iteration = 317\n",
      "Cost function =  3.60529499715e+15\n",
      "Iteration = 321\n",
      "Cost function =  3.60529499715e+15\n",
      "Iteration = 325\n",
      "Cost function =  3.60529499715e+15\n",
      "Iteration = 329\n",
      "Cost function =  3.60529499715e+15\n",
      "Iteration = 333\n",
      "Cost function =  3.60529499715e+15\n",
      "Iteration = 337\n",
      "Cost function =  3.60529499715e+15\n",
      "Iteration = 341\n",
      "Cost function =  3.60529499715e+15\n",
      "Iteration = 345\n",
      "Cost function =  3.60529499715e+15\n",
      "Iteration = 349\n",
      "Cost function =  3.60529499715e+15\n",
      "Iteration = 353\n",
      "Cost function =  3.60529499715e+15\n",
      "Iteration = 357\n",
      "Cost function =  3.60529499715e+15\n",
      "Iteration = 361\n",
      "Cost function =  3.60529499715e+15\n",
      "Iteration = 365\n",
      "Cost function =  3.60529499715e+15\n",
      "Iteration = 369\n",
      "Cost function =  3.60529499715e+15\n",
      "Iteration = 373\n",
      "Cost function =  3.60529499715e+15\n",
      "Iteration = 377\n",
      "Cost function =  3.60529499715e+15\n",
      "Iteration = 381\n",
      "Cost function =  3.60529499715e+15\n",
      "Iteration = 385\n",
      "Cost function =  3.60529499715e+15\n",
      "Iteration = 389\n",
      "Cost function =  3.60529499715e+15\n",
      "Iteration = 393\n",
      "Cost function =  3.60529499715e+15\n",
      "Iteration = 397\n",
      "Cost function =  3.60529499715e+15\n",
      "Iteration = 401\n",
      "Cost function =  3.60529499715e+15\n",
      "Iteration = 405\n",
      "Cost function =  3.60529499715e+15\n",
      "Iteration = 409\n",
      "Cost function =  3.60529499715e+15\n",
      "Iteration = 413\n",
      "Cost function =  3.60529499715e+15\n",
      "Iteration = 417\n",
      "Cost function =  3.60529499715e+15\n",
      "Iteration = 421\n",
      "Cost function =  3.60529499715e+15\n",
      "Iteration = 425\n",
      "Cost function =  3.60529499715e+15\n",
      "Iteration = 429\n",
      "Cost function =  3.60529499715e+15\n",
      "Iteration = 433\n",
      "Cost function =  3.60529499715e+15\n",
      "Iteration = 437\n",
      "Cost function =  3.60529499715e+15\n",
      "Iteration = 441\n",
      "Cost function =  3.60529499715e+15\n",
      "Iteration = 445\n",
      "Cost function =  3.60529499715e+15\n",
      "Iteration = 449\n",
      "Cost function =  3.60529499715e+15\n",
      "Iteration = 453\n",
      "Cost function =  3.60529499715e+15\n",
      "Iteration = 457\n",
      "Cost function =  3.60529499715e+15\n",
      "Iteration = 461\n",
      "Cost function =  3.60529499715e+15\n",
      "Iteration = 465\n",
      "Cost function =  3.60529499715e+15\n",
      "Iteration = 469\n",
      "Cost function =  3.60529499715e+15\n",
      "Iteration = 473\n",
      "Cost function =  3.60529499715e+15\n",
      "Iteration = 477\n",
      "Cost function =  3.60529499715e+15\n",
      "Iteration = 481\n",
      "Cost function =  3.60529499715e+15\n",
      "Iteration = 485\n",
      "Cost function =  3.60529499715e+15\n",
      "Iteration = 489\n",
      "Cost function =  3.60529499715e+15\n",
      "Iteration = 493\n",
      "Cost function =  3.60529499715e+15\n",
      "Iteration = 497\n",
      "Cost function =  3.60529499715e+15\n",
      "Iteration = 501\n",
      "Cost function =  3.60529499715e+15\n",
      "Iteration = 505\n",
      "Cost function =  3.60529499715e+15\n",
      "Iteration = 509\n",
      "Cost function =  3.60529499715e+15\n",
      "Iteration = 513\n",
      "Cost function =  3.60529499715e+15\n",
      "Iteration = 517\n",
      "Cost function =  3.60529499715e+15\n",
      "Iteration = 521\n",
      "Cost function =  3.60529499715e+15\n",
      "Iteration = 525\n",
      "Cost function =  3.60529499715e+15\n",
      "Iteration = 529\n",
      "Cost function =  3.60529499715e+15\n",
      "Iteration = 533\n",
      "Cost function =  3.60529499715e+15\n",
      "Iteration = 537\n",
      "Cost function =  3.60529499715e+15\n",
      "Iteration = 541\n",
      "Cost function =  3.60529499715e+15\n",
      "Iteration = 545\n",
      "Cost function =  3.60529499715e+15\n",
      "Iteration = 549\n",
      "Cost function =  3.60529499715e+15\n",
      "Iteration = 553\n",
      "Cost function =  3.60529499715e+15\n",
      "Iteration = 557\n",
      "Cost function =  3.60529499715e+15\n",
      "Iteration = 561\n",
      "Cost function =  3.60529499715e+15\n",
      "Iteration = 565\n",
      "Cost function =  3.60529499715e+15\n",
      "Iteration = 569\n",
      "Cost function =  3.60529499715e+15\n",
      "Iteration = 573\n",
      "Cost function =  3.60529499715e+15\n",
      "Iteration = 577\n",
      "Cost function =  3.60529499715e+15\n",
      "Iteration = 581\n",
      "Cost function =  3.60529499715e+15\n",
      "Iteration = 585\n",
      "Cost function =  3.60529499715e+15\n",
      "Iteration = 589\n",
      "Cost function =  3.60529499715e+15\n",
      "Iteration = 593\n",
      "Cost function =  3.60529499715e+15\n",
      "Iteration = 597\n",
      "Cost function =  3.60529499715e+15\n",
      "Iteration = 601\n",
      "Cost function =  3.60529499715e+15\n",
      "Iteration = 605\n",
      "Cost function =  3.60529499715e+15\n",
      "Iteration = 609\n",
      "Cost function =  3.60529499715e+15\n",
      "Iteration = 613\n",
      "Cost function =  3.60529499715e+15\n",
      "Iteration = 617\n",
      "Cost function =  3.60529499715e+15\n",
      "Iteration = 621\n",
      "Cost function =  3.60529499715e+15\n",
      "Iteration = 625\n",
      "Cost function =  3.60529499715e+15\n",
      "Iteration = 629\n",
      "Cost function =  3.60529499715e+15\n",
      "Iteration = 633\n",
      "Cost function =  3.60529499715e+15\n",
      "Iteration = 637\n",
      "Cost function =  3.60529499715e+15\n",
      "Iteration = 641\n",
      "Cost function =  3.60529499715e+15\n",
      "Iteration = 645\n",
      "Cost function =  3.60529499715e+15\n",
      "Iteration = 649\n",
      "Cost function =  3.60529499715e+15\n",
      "Iteration = 653\n",
      "Cost function =  3.60529499715e+15\n",
      "Iteration = 657\n",
      "Cost function =  3.60529499715e+15\n",
      "Iteration = 661\n",
      "Cost function =  3.60529499715e+15\n",
      "Iteration = 665\n",
      "Cost function =  3.60529499715e+15\n",
      "Iteration = 669\n",
      "Cost function =  3.60529499715e+15\n",
      "Iteration = 673\n",
      "Cost function =  3.60529499715e+15\n",
      "Iteration = 677\n",
      "Cost function =  3.60529499715e+15\n",
      "Iteration = 681\n",
      "Cost function =  3.60529499715e+15\n",
      "Iteration = 685\n",
      "Cost function =  3.60529499715e+15\n",
      "Iteration = 689\n",
      "Cost function =  3.60529499715e+15\n",
      "Iteration = 693\n",
      "Cost function =  3.60529499715e+15\n",
      "Iteration = 697\n",
      "Cost function =  3.60529499715e+15\n",
      "Iteration = 701\n",
      "Cost function =  3.60529499715e+15\n",
      "Iteration = 705\n",
      "Cost function =  3.60529499715e+15\n",
      "Iteration = 709\n",
      "Cost function =  3.60529499715e+15\n",
      "Iteration = 713\n",
      "Cost function =  3.60529499715e+15\n",
      "Iteration = 717\n",
      "Cost function =  3.60529499715e+15\n",
      "Iteration = 721\n",
      "Cost function =  3.60529499715e+15\n",
      "Iteration = 725\n",
      "Cost function =  3.60529499715e+15\n",
      "Iteration = 729\n",
      "Cost function =  3.60529499715e+15\n",
      "Iteration = 733\n",
      "Cost function =  3.60529499715e+15\n",
      "Iteration = 737\n",
      "Cost function =  3.60529499715e+15\n",
      "Iteration = 741\n",
      "Cost function =  3.60529499715e+15\n",
      "Iteration = 745\n",
      "Cost function =  3.60529499715e+15\n",
      "Iteration = 749\n",
      "Cost function =  3.60529499715e+15\n",
      "Iteration = 753\n",
      "Cost function =  3.60529499715e+15\n",
      "Iteration = 757\n",
      "Cost function =  3.60529499715e+15\n",
      "Iteration = 761\n",
      "Cost function =  3.60529499715e+15\n",
      "Iteration = 765\n",
      "Cost function =  3.60529499715e+15\n",
      "Iteration = 769\n",
      "Cost function =  3.60529499715e+15\n",
      "Iteration = 773\n",
      "Cost function =  3.60529499715e+15\n",
      "Iteration = 777\n",
      "Cost function =  3.60529499715e+15\n",
      "Iteration = 781\n",
      "Cost function =  3.60529499715e+15\n",
      "Iteration = 785\n",
      "Cost function =  3.60529499715e+15\n",
      "Iteration = 789\n",
      "Cost function =  3.60529499715e+15\n",
      "Iteration = 793\n",
      "Cost function =  3.60529499715e+15\n",
      "Iteration = 797\n",
      "Cost function =  3.60529499715e+15\n",
      "Iteration = 801\n",
      "Cost function =  3.60529499715e+15\n",
      "Iteration = 805\n",
      "Cost function =  3.60529499715e+15\n",
      "Iteration = 809\n",
      "Cost function =  3.60529499715e+15\n",
      "Iteration = 813\n",
      "Cost function =  3.60529499715e+15\n",
      "Iteration = 817\n",
      "Cost function =  3.60529499715e+15\n",
      "Iteration = 821\n",
      "Cost function =  3.60529499715e+15\n",
      "Iteration = 825\n"
     ]
    },
    {
     "name": "stdout",
     "output_type": "stream",
     "text": [
      "Cost function =  3.60529499715e+15\n",
      "Iteration = 829\n",
      "Cost function =  3.60529499715e+15\n",
      "Iteration = 833\n",
      "Cost function =  3.60529499715e+15\n",
      "Iteration = 837\n",
      "Cost function =  3.60529499715e+15\n",
      "Iteration = 841\n",
      "Cost function =  3.60529499715e+15\n",
      "Iteration = 845\n",
      "Cost function =  3.60529499715e+15\n",
      "Iteration = 849\n",
      "Cost function =  3.60529499715e+15\n",
      "Iteration = 853\n",
      "Cost function =  3.60529499715e+15\n",
      "Iteration = 857\n",
      "Cost function =  3.60529499715e+15\n",
      "Iteration = 861\n",
      "Cost function =  3.60529499715e+15\n",
      "Iteration = 865\n",
      "Cost function =  3.60529499715e+15\n",
      "Iteration = 869\n",
      "Cost function =  3.60529499715e+15\n",
      "Iteration = 873\n",
      "Cost function =  3.60529499715e+15\n",
      "Iteration = 877\n",
      "Cost function =  3.60529499715e+15\n",
      "Iteration = 881\n",
      "Cost function =  3.60529499715e+15\n",
      "Iteration = 885\n",
      "Cost function =  3.60529499715e+15\n",
      "Iteration = 889\n",
      "Cost function =  3.60529499715e+15\n",
      "Iteration = 893\n",
      "Cost function =  3.60529499715e+15\n",
      "Iteration = 897\n",
      "Cost function =  3.60529499715e+15\n",
      "Iteration = 901\n",
      "Cost function =  3.60529499715e+15\n",
      "Iteration = 905\n",
      "Cost function =  3.60529499715e+15\n",
      "Iteration = 909\n",
      "Cost function =  3.60529499715e+15\n",
      "Iteration = 913\n",
      "Cost function =  3.60529499715e+15\n",
      "Iteration = 917\n",
      "Cost function =  3.60529499715e+15\n",
      "Iteration = 921\n",
      "Cost function =  3.60529499715e+15\n",
      "Iteration = 925\n",
      "Cost function =  3.60529499715e+15\n",
      "Iteration = 929\n",
      "Cost function =  3.60529499715e+15\n",
      "Iteration = 933\n",
      "Cost function =  3.60529499715e+15\n",
      "Iteration = 937\n",
      "Cost function =  3.60529499715e+15\n",
      "Iteration = 941\n",
      "Cost function =  3.60529499715e+15\n",
      "Iteration = 945\n",
      "Cost function =  3.60529499715e+15\n",
      "Iteration = 949\n",
      "Cost function =  3.60529499715e+15\n",
      "Iteration = 953\n",
      "Cost function =  3.60529499715e+15\n",
      "Iteration = 957\n",
      "Cost function =  3.60529499715e+15\n",
      "Iteration = 961\n",
      "Cost function =  3.60529499715e+15\n",
      "Iteration = 965\n",
      "Cost function =  3.60529499715e+15\n",
      "Iteration = 969\n",
      "Cost function =  3.60529499715e+15\n",
      "Iteration = 973\n",
      "Cost function =  3.60529499715e+15\n",
      "Iteration = 977\n",
      "Cost function =  3.60529499715e+15\n",
      "Iteration = 981\n",
      "Cost function =  3.60529499715e+15\n",
      "Iteration = 985\n",
      "Cost function =  3.60529499715e+15\n",
      "Iteration = 989\n",
      "Cost function =  3.60529499715e+15\n",
      "Iteration = 993\n",
      "Cost function =  3.60529499715e+15\n",
      "Iteration = 997\n",
      "Cost function =  3.60529499715e+15\n",
      "Done with gradient descent at iteration  1000\n",
      "Learned weights =  [  0.          91.49017202  78.43749488]\n",
      "[  0.          91.49017202  78.43749488]\n"
     ]
    }
   ],
   "source": [
    "l2_penalty = 1e11\n",
    "multiple_weights_high_penalty = ridge_regression_gradient_descent(feature_matrix, output, initial_weights, step_size, l2_penalty, max_iterations)\n",
    "print multiple_weights_high_penalty"
   ]
  },
  {
   "cell_type": "markdown",
   "metadata": {},
   "source": [
    "Compute the RSS on the TEST data for the following three sets of weights:\n",
    "1. The initial weights (all zeros)\n",
    "2. The weights learned with no regularization\n",
    "3. The weights learned with high regularization\n",
    "\n",
    "Which weights perform best?"
   ]
  },
  {
   "cell_type": "code",
   "execution_count": 50,
   "metadata": {},
   "outputs": [
    {
     "name": "stdout",
     "output_type": "stream",
     "text": [
      "1.78427328252e+15\n"
     ]
    }
   ],
   "source": [
    "residual_ZeroWts = predict_output(test_feature_matrix, initial_weights) - test_output\n",
    "sq_residual_ZeroWts = residual_ZeroWts*residual_ZeroWts\n",
    "RSS_ZeroWts = sq_residual_ZeroWts.sum()\n",
    "print RSS_ZeroWts"
   ]
  },
  {
   "cell_type": "code",
   "execution_count": 51,
   "metadata": {},
   "outputs": [
    {
     "name": "stdout",
     "output_type": "stream",
     "text": [
      "2.73736237089e+14\n"
     ]
    }
   ],
   "source": [
    "residual_ZeroPen = predict_output(test_feature_matrix, multiple_weights_0_penalty) - test_output\n",
    "sq_residual_ZeroPen = residual_ZeroPen*residual_ZeroPen\n",
    "RSS_ZeroPen = sq_residual_ZeroPen.sum()\n",
    "print RSS_ZeroPen"
   ]
  },
  {
   "cell_type": "code",
   "execution_count": 52,
   "metadata": {},
   "outputs": [
    {
     "name": "stdout",
     "output_type": "stream",
     "text": [
      "5.00408548924e+14\n"
     ]
    }
   ],
   "source": [
    "residual_HighPen = predict_output(test_feature_matrix, multiple_weights_high_penalty) - test_output\n",
    "sq_residual_HighPen = residual_HighPen*residual_HighPen\n",
    "RSS_HighPen = sq_residual_HighPen.sum()\n",
    "print RSS_HighPen"
   ]
  },
  {
   "cell_type": "markdown",
   "metadata": {},
   "source": [
    "Predict the house price for the 1st house in the test set using the no regularization and high regularization models. (Remember that python starts indexing from 0.) How far is the prediction from the actual price?  Which weights perform best for the 1st house?"
   ]
  },
  {
   "cell_type": "code",
   "execution_count": 33,
   "metadata": {},
   "outputs": [
    {
     "name": "stdout",
     "output_type": "stream",
     "text": [
      "398769.037338\n",
      "310000.0\n"
     ]
    }
   ],
   "source": [
    "predictions = predict_output(test_feature_matrix,multiple_weights_0_penalty)\n",
    "print predictions [0]\n",
    "print test_output[0]"
   ]
  },
  {
   "cell_type": "code",
   "execution_count": 34,
   "metadata": {},
   "outputs": [
    {
     "name": "stdout",
     "output_type": "stream",
     "text": [
      "270449.686886\n",
      "310000.0\n"
     ]
    }
   ],
   "source": [
    "predictions = predict_output(test_feature_matrix,multiple_weights_high_penalty)\n",
    "print predictions [0]\n",
    "print test_output[0]"
   ]
  },
  {
   "cell_type": "markdown",
   "metadata": {
    "collapsed": true
   },
   "source": [
    "***QUIZ QUESTIONS***\n",
    "1. What is the value of the coefficient for `sqft_living` that you learned with no regularization, rounded to 1 decimal place?  What about the one with high regularization?\n",
    "2. What are the RSS on the test data for each of the set of weights above (initial, no regularization, high regularization)? \n",
    "3. We make prediction for the first house in the test set using two sets of weights (no regularization vs high regularization). Which weights make better prediction <u>for that particular house</u>?"
   ]
  },
  {
   "cell_type": "code",
   "execution_count": null,
   "metadata": {
    "collapsed": true
   },
   "outputs": [],
   "source": []
  }
 ],
 "metadata": {
  "kernelspec": {
   "display_name": "Python 2",
   "language": "python",
   "name": "python2"
  },
  "language_info": {
   "codemirror_mode": {
    "name": "ipython",
    "version": 2
   },
   "file_extension": ".py",
   "mimetype": "text/x-python",
   "name": "python",
   "nbconvert_exporter": "python",
   "pygments_lexer": "ipython2",
   "version": "2.7.13"
  },
  "toc": {
   "colors": {
    "hover_highlight": "#DAA520",
    "navigate_num": "#000000",
    "navigate_text": "#333333",
    "running_highlight": "#FF0000",
    "selected_highlight": "#FFD700",
    "sidebar_border": "#EEEEEE",
    "wrapper_background": "#FFFFFF"
   },
   "moveMenuLeft": true,
   "nav_menu": {
    "height": "176px",
    "width": "252px"
   },
   "navigate_menu": true,
   "number_sections": true,
   "sideBar": true,
   "threshold": 4,
   "toc_cell": false,
   "toc_section_display": "block",
   "toc_window_display": false,
   "widenNotebook": false
  }
 },
 "nbformat": 4,
 "nbformat_minor": 1
}
